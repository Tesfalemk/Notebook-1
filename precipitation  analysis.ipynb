{
    "cells": [
        {
            "cell_type": "code",
            "execution_count": 3,
            "metadata": {},
            "outputs": [
                {
                    "name": "stdout",
                    "output_type": "stream",
                    "text": "+---------+-----+-------+----------------+--------+-----------+\n|     Date| From|     To|       Feed Type|Qtty/Qtl|FFTV/FFIV #|\n+---------+-----+-------+----------------+--------+-----------+\n|8/15/2020|Gelan|Mekelle| Broiler starter|    50.0|       null|\n|8/15/2020|Gelan|Mekelle|Broiler Finisher|    60.0|  FFTV00648|\n|8/15/2020|Gelan|Mekelle|  Broiler Grower|    80.0|  FFTV00648|\n|8/15/2020|Gelan|Mekelle|Commercial Layer|   250.0|  FFTV00648|\n|8/15/2020|Gelan|Mekelle|Commercial Layer|   430.0|  FFTV00646|\n+---------+-----+-------+----------------+--------+-----------+\nonly showing top 5 rows\n\n"
                },
                {
                    "data": {
                        "text/plain": "configurationName = os_afa5652ce3e7490d915e53615796cdd9_configs\ncos = com.ibm.ibmos2spark.CloudObjectStorage@ddffc05a\nspark = org.apache.spark.sql.SparkSession@746abbd3\ndfData1 = [Date: string, From: string ... 4 more fields]\n"
                    },
                    "metadata": {},
                    "output_type": "display_data"
                },
                {
                    "data": {
                        "text/plain": "getCredentials: ()scala.collection.mutable.HashMap[String,String]\n"
                    },
                    "metadata": {},
                    "output_type": "display_data"
                },
                {
                    "data": {
                        "text/plain": "[Date: string, From: string ... 4 more fields]"
                    },
                    "execution_count": 3,
                    "metadata": {},
                    "output_type": "execute_result"
                }
            ],
            "source": "// The code was removed by Watson Studio for sharing."
        },
        {
            "cell_type": "code",
            "execution_count": null,
            "metadata": {},
            "outputs": [],
            "source": ""
        },
        {
            "cell_type": "code",
            "execution_count": null,
            "metadata": {},
            "outputs": [],
            "source": ""
        }
    ],
    "metadata": {
        "kernelspec": {
            "display_name": "Scala 2.11 with Spark",
            "language": "scala",
            "name": "scala"
        },
        "language_info": {
            "codemirror_mode": "text/x-scala",
            "file_extension": ".scala",
            "mimetype": "text/x-scala",
            "name": "scala",
            "pygments_lexer": "scala",
            "version": "2.11.12"
        }
    },
    "nbformat": 4,
    "nbformat_minor": 1
}